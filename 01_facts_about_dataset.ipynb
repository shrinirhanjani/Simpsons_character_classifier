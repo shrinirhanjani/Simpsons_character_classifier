{
 "cells": [
  {
   "cell_type": "markdown",
   "metadata": {},
   "source": [
    "I am using the below dataset from Kaggle\n",
    "https://www.kaggle.com/datasets/alexattia/the-simpsons-characters-dataset\n",
    "\n"
   ]
  },
  {
   "cell_type": "code",
   "execution_count": null,
   "metadata": {},
   "outputs": [],
   "source": [
    "original_path='./Data/characters'"
   ]
  },
  {
   "cell_type": "code",
   "execution_count": null,
   "metadata": {},
   "outputs": [],
   "source": [
    "import os\n",
    "import pathlib \n",
    "\n",
    "def count_files(rootdir):\n",
    "    '''counts the number of files in each subfolder in a directory'''\n",
    "    for path in pathlib.Path(rootdir).iterdir():\n",
    "        if path.is_dir():\n",
    "            print(\"There are \" + str(len([name for name in os.listdir(path) \\\n",
    "            if os.path.isfile(os.path.join(path, name))])) + \" files in \" + \\\n",
    "            str(path.name))\n",
    "            \n",
    " \n"
   ]
  },
  {
   "cell_type": "markdown",
   "metadata": {},
   "source": []
  },
  {
   "cell_type": "code",
   "execution_count": null,
   "metadata": {},
   "outputs": [],
   "source": [
    "count_files(original_path) # data_dir is the directory you want files counted."
   ]
  }
 ],
 "metadata": {
  "language_info": {
   "name": "python"
  }
 },
 "nbformat": 4,
 "nbformat_minor": 2
}
