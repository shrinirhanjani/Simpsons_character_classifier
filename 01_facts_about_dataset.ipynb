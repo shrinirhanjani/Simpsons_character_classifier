{
 "cells": [
  {
   "cell_type": "markdown",
   "metadata": {},
   "source": [
    "I am using the below dataset from Kaggle\n",
    "https://www.kaggle.com/datasets/alexattia/the-simpsons-characters-dataset\n",
    "\n"
   ]
  },
  {
   "cell_type": "code",
   "execution_count": 1,
   "metadata": {},
   "outputs": [],
   "source": [
    "original_path='./Data/characters'"
   ]
  },
  {
   "cell_type": "code",
   "execution_count": 4,
   "metadata": {},
   "outputs": [],
   "source": [
    "import os\n",
    "import pathlib \n",
    "\n",
    "def count_files(rootdir):\n",
    "    '''counts the number of files in each subfolder in a directory'''\n",
    "    for path in pathlib.Path(rootdir).iterdir():\n",
    "        if path.is_dir():\n",
    "            print(\"There are \" + str(len([name for name in os.listdir(path) \\\n",
    "            if os.path.isfile(os.path.join(path, name))])) + \" files in \" + \\\n",
    "            str(path.name))\n",
    "            \n",
    " \n"
   ]
  },
  {
   "cell_type": "markdown",
   "metadata": {},
   "source": []
  },
  {
   "cell_type": "code",
   "execution_count": 5,
   "metadata": {},
   "outputs": [
    {
     "name": "stdout",
     "output_type": "stream",
     "text": [
      "There are 913 files in abraham_grampa_simpson\n",
      "There are 42 files in agnes_skinner\n",
      "There are 623 files in apu_nahasapeemapetilon\n",
      "There are 106 files in barney_gumble\n",
      "There are 1342 files in bart_simpson\n",
      "There are 98 files in carl_carlson\n",
      "There are 1193 files in charles_montgomery_burns\n",
      "There are 986 files in chief_wiggum\n",
      "There are 47 files in cletus_spuckler\n",
      "There are 469 files in comic_book_guy\n",
      "There are 8 files in disco_stu\n",
      "There are 457 files in edna_krabappel\n",
      "There are 27 files in fat_tony\n",
      "There are 27 files in gil\n",
      "There are 121 files in groundskeeper_willie\n",
      "There are 2246 files in homer_simpson\n",
      "There are 498 files in kent_brockman\n",
      "There are 1206 files in krusty_the_clown\n",
      "There are 310 files in lenny_leonard\n",
      "There are 3 files in lionel_hutz\n",
      "There are 1354 files in lisa_simpson\n",
      "There are 128 files in maggie_simpson\n",
      "There are 1291 files in marge_simpson\n",
      "There are 71 files in martin_prince\n",
      "There are 246 files in mayor_quimby\n",
      "There are 1079 files in milhouse_van_houten\n",
      "There are 17 files in miss_hoover\n",
      "There are 1452 files in moe_szyslak\n",
      "There are 1454 files in ned_flanders\n",
      "There are 358 files in nelson_muntz\n",
      "There are 32 files in otto_mann\n",
      "There are 72 files in patty_bouvier\n",
      "There are 1194 files in principal_skinner\n",
      "There are 65 files in professor_john_frink\n",
      "There are 45 files in rainier_wolfcastle\n",
      "There are 89 files in ralph_wiggum\n",
      "There are 103 files in selma_bouvier\n",
      "There are 877 files in sideshow_bob\n",
      "There are 40 files in sideshow_mel\n",
      "There are 55 files in snake_jailbird\n",
      "There are 8 files in troy_mcclure\n",
      "There are 181 files in waylon_smithers\n"
     ]
    }
   ],
   "source": [
    "count_files(original_path) # data_dir is the directory you want files counted."
   ]
  }
 ],
 "metadata": {
  "kernelspec": {
   "display_name": "base",
   "language": "python",
   "name": "python3"
  },
  "language_info": {
   "codemirror_mode": {
    "name": "ipython",
    "version": 3
   },
   "file_extension": ".py",
   "mimetype": "text/x-python",
   "name": "python",
   "nbconvert_exporter": "python",
   "pygments_lexer": "ipython3",
   "version": "3.11.5"
  }
 },
 "nbformat": 4,
 "nbformat_minor": 2
}
